{
 "cells": [
  {
   "cell_type": "code",
   "execution_count": 1,
   "metadata": {
    "collapsed": true
   },
   "outputs": [],
   "source": [
    "\"\"\"\n",
    "    FizzBuzz\n",
    "    Написать функцию, обрабатывающую числа от 1 до 100. Вместо чисел, кратных 3, она должна выводить Fizz, а вместо кратных 5 - Buzz. Если число кратно и 3, и 5, программа должна вывести FizzBuzz.\n",
    "    Пример вывода:\n",
    "        1\n",
    "        2\n",
    "        Fizz\n",
    "        4\n",
    "        Buzz\n",
    "    и т.д. до 100\n",
    "\"\"\"\n",
    "def fizz_buzz():\n",
    "    pass"
   ]
  },
  {
   "cell_type": "code",
   "execution_count": 2,
   "metadata": {
    "collapsed": true
   },
   "outputs": [],
   "source": [
    "\"\"\"\n",
    "    Числа Фибоначчи\n",
    "    Написать функцию, на вход которой передается количество чисел, \n",
    "    на выходе должен быть список чисел Фибоначчи (1,1,2,3,5,8,...)\n",
    "\"\"\"\n",
    "def fibonnaci(n):\n",
    "    return []"
   ]
  },
  {
   "cell_type": "code",
   "execution_count": 3,
   "metadata": {
    "collapsed": true
   },
   "outputs": [],
   "source": [
    "\"\"\"\n",
    "    Проверка email'а.\n",
    "    Пользователь хочет зарегистрировать email, который должен удовлетворять нескольким правилам:\n",
    "        1. Первая часть должна содержать только буквы или цифры.\n",
    "        2. Длина первой части не менее 5 символов.\n",
    "        3. Домен первого уровня должен быть 'ru'.\n",
    "        4. Домен второго уровня может содержать буквы и знак '-'.\n",
    "\n",
    "        Например, подходят емейлы вида name@my-mail.ru\n",
    "        Не подходят my.name@123.com\n",
    "\n",
    "    Написать функцию, которая проверяет правильность передаваемого ей email'а.\n",
    "\"\"\"\n",
    "def check_email(email):\n",
    "    return True"
   ]
  }
 ],
 "metadata": {
  "kernelspec": {
   "display_name": "Python 2",
   "language": "python",
   "name": "python2"
  },
  "language_info": {
   "codemirror_mode": {
    "name": "ipython",
    "version": 2
   },
   "file_extension": ".py",
   "mimetype": "text/x-python",
   "name": "python",
   "nbconvert_exporter": "python",
   "pygments_lexer": "ipython2",
   "version": "2.7.11"
  }
 },
 "nbformat": 4,
 "nbformat_minor": 0
}
